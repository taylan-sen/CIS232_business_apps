{
  "nbformat": 4,
  "nbformat_minor": 0,
  "metadata": {
    "colab": {
      "provenance": [],
      "authorship_tag": "ABX9TyP81s4zfGCmrqNo+4UMUNPO",
      "include_colab_link": true
    },
    "kernelspec": {
      "name": "python3",
      "display_name": "Python 3"
    },
    "language_info": {
      "name": "python"
    }
  },
  "cells": [
    {
      "cell_type": "markdown",
      "metadata": {
        "id": "view-in-github",
        "colab_type": "text"
      },
      "source": [
        "<a href=\"https://colab.research.google.com/github/taylan-sen/CIS232_business_apps/blob/main/Intro_to_markup_languages.ipynb\" target=\"_parent\"><img src=\"https://colab.research.google.com/assets/colab-badge.svg\" alt=\"Open In Colab\"/></a>"
      ]
    },
    {
      "cell_type": "markdown",
      "source": [
        "###SUMMARY\n",
        "In this notebook we go over the two markup languages called:\n",
        "1. markdown\n",
        "1. html (hyper text markup language)\n",
        "\n",
        "---\n",
        "\n",
        "A ***Google Colab notebook*** is made up of two types of ***cells***:\n",
        "- **text cells** which can hold plain text, markdown, or html\n",
        "- **code cells** which hold python code\n",
        "\n",
        "To insert a new cell, drag the mouse over the lower or upper boundary of a cell and a button will appear to create a new text or code cell. You can also use the menu items \"+ Code\" or \"+ Text\" to add new cells.  \n",
        "\n",
        "To execute a code cell, click the \"play button\" on the left of the cell.  \n",
        "To edit a text cell (or to see its markdown/html source) you need to double click on it.  "
      ],
      "metadata": {
        "id": "zV3dDM1zDIRb"
      }
    },
    {
      "cell_type": "markdown",
      "source": [
        "### Markdown basics  \n",
        "**Markdown** was designed to be a simple *markup language*. Recall that a *markup language* uses special characters or codes to \"mark up\" plain text to provide formatting.  \n",
        "\n",
        "#### simple formatting\n",
        "For example, the markup for some simple formatting is:\n",
        "- to do italics, put a single asterisk * on either side of the text to be italicised.\n",
        "- to do bold, put double asterisks on either side of the text to be bolded,\n",
        "- to start a newline, put two spaces in a row at the end of a line\n",
        "- to make a bulleted list, start each newline with a dash: -\n",
        "- to make a numbered list, just start each line with the number 1. (always use 1. and it will increment it automatically)\n",
        "- to make a title, start the line with a #\n",
        "- to make a subtitle, start the line with a ##\n",
        "- to make a subsubtitle, start the line with a ###\n",
        "- to make a horizontal line, add three dashes on a line by themself (---)\n",
        "\n",
        "Examples:\n",
        "\n",
        "**I am bold**  \n",
        "*I am italic*  \n",
        "***I am bold and italic***  \n",
        "- I\n",
        "- am\n",
        "- a bulleted\n",
        "- list\n",
        "1. I\n",
        "1. am\n",
        "1. a\n",
        "1. numbered\n",
        "1. list\n",
        "---\n",
        "An additional useful \"markup code\" is to enter four spaces before text to create a \"code block\". A code block has separate highlighting and uses a monospace font that is good for displaying computer code. Note that this code will not execute the way it does in a code cell. Example code block.\n",
        "\n",
        "    print(\"This is an example use of a Markdown code block.\")\n",
        "\n",
        "Keep in mind a code <b><u>cell</u></b> and a code <b><u>block</u></b> are separate things.   \n",
        "\n",
        "### links\n",
        "Links can be placed in markdown, i.e. when a line is clicked on with a mouse, it will bring you to a website. In order to create a link in markdown, use the following format:\n",
        "\n",
        "    [link text](URL)\n",
        "    [click to go to NU](https://niagara.edu)\n",
        "\n",
        "(Note that the code above is in a code block so that it does not get turned into an active link.)\n",
        "\n",
        "Here is the above example in action:  \n",
        "[click to go to NU](https://niagara.edu)\n",
        "\n",
        "### linked images\n",
        "\n",
        "A linked image is when you place the web address (aka \"URL\") to an image on the web, but the image *renders* (i.e. is displayed) in the markdown document instead of the URL text. For example, lets say we want the image located at this address to be displayed: \"https://mascothalloffame.com/wp-content/uploads/bb-plugin/cache/niagra-e1678826558917-circle.jpg\". We use the following code below (again this code is inactivated since it is placed in a code block.)\n",
        "\n",
        "    ![monte mascot](https://mascothalloffame.com/wp-content/uploads/bb-plugin/cache/niagra-e1678826558917-circle.jpg)\n",
        "\n",
        "And below is the same source code but active:\n",
        "![monte mascot](https://mascothalloffame.com/wp-content/uploads/bb-plugin/cache/niagra-e1678826558917-circle.jpg)"
      ],
      "metadata": {
        "id": "xTTzDppU0WI9"
      }
    },
    {
      "cell_type": "markdown",
      "source": [
        "---\n",
        "### HTML basics\n",
        "\n",
        "HTML stands for hyper text markup language.  \n",
        "Most markup is done using \"tags\" in HTML. Tags are the less than sign followed by the greater than sign. For example, to do bold in HTML, you place a  \\<b> before the text to be bolded and \\<\\b> at the end.  \n",
        "\n",
        "    <b>This is a bold line.</b>\n",
        "\n",
        "Appears as this:\n",
        "\n",
        "<b>This is a bold line</b>\n",
        "\n",
        "### simple formatting\n",
        "Here are some other ways to do simple formatting in HTML\n",
        "\n",
        "    <h1>This is how to have a section title, aka heading 1.</h1>\n",
        "    <h2>This is how to have a section subtitle, aka heading 2.</h2>\n",
        "    <h3>This is how to have a section subsubtitle, aka heading 3.</h3>\n",
        "    <b>This is how to do bold.</b>\n",
        "    <i>This is how to do italic.</i>\n",
        "    <u>This is how to underline.</u>\n",
        "\n",
        "\n",
        "### links\n",
        "\n",
        "In order to do an html link, use the following HTML source code with a tags:\n",
        "\n",
        "    <a ref=\"https://niagara.edu\">Link to Niagara website</a>\n",
        "\n",
        "Below is how it appears:\n",
        "\n",
        "<a ref=\"https://niagara.edu\">Link to Niagara website</a>\n",
        "\n",
        "### linked image\n",
        "\n",
        "In order to link an image that renders, you use the \\<img> tag. Note that the img tag does not need a corresponding ending <\\img> tag. Here is an example:\n",
        "\n",
        "    <img src=\"https://mascothalloffame.com/wp-content/uploads/bb-plugin/cache/niagra-e1678826558917-circle.jpg\" width=200px>\n",
        "\n",
        "Note the above code uses the *width* modifier.  \n",
        "Here is the resulting image display of the above code:\n",
        "<img src=\"https://mascothalloffame.com/wp-content/uploads/bb-plugin/cache/niagra-e1678826558917-circle.jpg\" width=200px>\n",
        "\n",
        "\n",
        "\n",
        "NOTE: If you are making anything more complex than the simplest of HTML pages, you should use a more advanced formattting technique called **css** (you will learn this if you take one of Prof. Devine's classes on web design)."
      ],
      "metadata": {
        "id": "z6xL8SVY-3pP"
      }
    },
    {
      "cell_type": "markdown",
      "source": [
        "<hr>\n",
        "The following examples that I went over in class will be part of your upcoming homework assignment. If you did it, thats great. If you didn't, you can copy the cells below with your own information, or you can just wait until the assignment is posted.  "
      ],
      "metadata": {
        "id": "mafv8ooN8aZj"
      }
    },
    {
      "cell_type": "code",
      "execution_count": null,
      "metadata": {
        "colab": {
          "base_uri": "https://localhost:8080/"
        },
        "id": "Oi8RalskA-ZW",
        "outputId": "59dbf843-5df7-4ca5-d571-a61799cbb656"
      },
      "outputs": [
        {
          "output_type": "stream",
          "name": "stdout",
          "text": [
            "Hello world\n"
          ]
        }
      ],
      "source": [
        "# This is a code cell for hello world in python.\n",
        "print('Hello world')"
      ]
    },
    {
      "cell_type": "markdown",
      "source": [
        "<hr>\n",
        "The following is a Markdown cell for creating a rudimentary webpage. It is followed by a cell with the equivalent html."
      ],
      "metadata": {
        "id": "e9FZWBBl85Iz"
      }
    },
    {
      "cell_type": "markdown",
      "source": [
        "### Taylan Sen\n",
        "\n",
        "Welcome to my webpage. I am a freshman at [Niagara University](https://www.niagara.edu/).\n",
        "\n",
        "![](https://cdn.wallpapersafari.com/74/23/JZ1x0p.jpg)\n"
      ],
      "metadata": {
        "id": "xAZgZAkZBTy1"
      }
    },
    {
      "cell_type": "markdown",
      "source": [
        "<h3>Taylan Sen</h3>\n",
        "Welcome to my webpage. I am a freshman at <a src=\"https://niagara.edu\"> Niagara University</a>.\n",
        "\n",
        "<img src=\"https://cdn.wallpapersafari.com/74/23/JZ1x0p.jpg\" height=150px>"
      ],
      "metadata": {
        "id": "2rsT393KCWxz"
      }
    }
  ]
}